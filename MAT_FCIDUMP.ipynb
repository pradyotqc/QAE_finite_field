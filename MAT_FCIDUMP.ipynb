{
 "cells": [
  {
   "cell_type": "code",
   "execution_count": 42,
   "metadata": {},
   "outputs": [],
   "source": [
    "# from FCI_MATRIX_SC import *"
   ]
  },
  {
   "cell_type": "code",
   "execution_count": 1,
   "metadata": {},
   "outputs": [
    {
     "name": "stdout",
     "output_type": "stream",
     "text": [
      "(1, 1, 1, 1): 0.6757089066706534\n",
      "(2, 2, 2, 2): 0.6757089066706534\n",
      "(1, 1, 3, 3): 0.6645840969654995\n",
      "(2, 2, 4, 4): 0.6645840969654995\n",
      "(1, 1, 2, 2): 0.6757089066706534\n",
      "(2, 2, 1, 1): 0.6757089066706534\n",
      "(1, 1, 4, 4): 0.6645840969654995\n",
      "(2, 2, 3, 3): 0.6645840969654995\n",
      "(3, 1, 3, 1): 0.1809279757028143\n",
      "(4, 2, 4, 2): 0.1809279757028143\n",
      "(3, 1, 1, 3): 0.18092797571570754\n",
      "(4, 2, 2, 4): 0.18092797571570754\n",
      "(3, 1, 4, 2): 0.18092797571570754\n",
      "(4, 2, 3, 1): 0.18092797571570754\n",
      "(3, 1, 2, 4): 0.1809279757028143\n",
      "(4, 2, 1, 3): 0.1809279757028143\n",
      "(3, 2, 3, 2): 3.24504034821634e-12\n",
      "(4, 1, 4, 1): 3.24504034821634e-12\n",
      "(3, 2, 1, 4): -3.245040348216345e-12\n",
      "(4, 1, 2, 3): -3.245040348216345e-12\n",
      "(3, 2, 4, 1): -3.157769395619269e-11\n",
      "(4, 1, 3, 2): -3.157769395619269e-11\n",
      "(3, 2, 2, 3): 3.157769395619269e-11\n",
      "(4, 1, 1, 4): 3.157769395619269e-11\n",
      "(3, 1, 4, 1): 8.675133117454657e-07\n",
      "(4, 2, 3, 2): -8.675133117454657e-07\n",
      "(3, 1, 2, 3): -8.675133117454657e-07\n",
      "(4, 2, 1, 4): 8.675133117454657e-07\n",
      "(3, 1, 3, 2): -8.675181680676493e-07\n",
      "(4, 2, 4, 1): 8.675181680676493e-07\n",
      "(3, 1, 1, 4): 8.675181680676493e-07\n",
      "(4, 2, 2, 3): -8.675181680676493e-07\n",
      "(4, 1, 3, 1): 8.675133117454659e-07\n",
      "(3, 2, 4, 2): -8.675133117454659e-07\n",
      "(4, 1, 1, 3): 8.675181680676496e-07\n",
      "(3, 2, 2, 4): -8.675181680676496e-07\n",
      "(3, 2, 3, 1): -8.675181680676496e-07\n",
      "(4, 1, 4, 2): 8.675181680676496e-07\n",
      "(3, 2, 1, 3): -8.675133117454659e-07\n",
      "(4, 1, 2, 4): 8.675133117454659e-07\n",
      "(1, 3, 3, 1): 0.18092797571570757\n",
      "(2, 4, 4, 2): 0.18092797571570757\n",
      "(1, 3, 1, 3): 0.18092797570281433\n",
      "(2, 4, 2, 4): 0.18092797570281433\n",
      "(1, 3, 4, 2): 0.18092797570281433\n",
      "(2, 4, 3, 1): 0.18092797570281433\n",
      "(1, 3, 2, 4): 0.18092797571570757\n",
      "(2, 4, 1, 3): 0.18092797571570757\n",
      "(1, 4, 3, 2): -3.24504034821634e-12\n",
      "(2, 3, 4, 1): -3.24504034821634e-12\n",
      "(1, 4, 1, 4): 3.2450403482163416e-12\n",
      "(2, 3, 2, 3): 3.2450403482163416e-12\n",
      "(1, 4, 4, 1): 3.157769395619269e-11\n",
      "(2, 3, 3, 2): 3.157769395619269e-11\n",
      "(1, 4, 2, 3): -3.1577693956192685e-11\n",
      "(2, 3, 1, 4): -3.1577693956192685e-11\n",
      "(1, 3, 4, 1): 8.675181680676496e-07\n",
      "(2, 4, 3, 2): -8.675181680676496e-07\n",
      "(1, 3, 2, 3): -8.675181680676495e-07\n",
      "(2, 4, 1, 4): 8.675181680676495e-07\n",
      "(1, 3, 3, 2): -8.675133117454659e-07\n",
      "(2, 4, 4, 1): 8.675133117454659e-07\n",
      "(1, 3, 1, 4): 8.675133117454658e-07\n",
      "(2, 4, 2, 3): -8.675133117454658e-07\n",
      "(2, 3, 3, 1): -8.675133117454657e-07\n",
      "(1, 4, 4, 2): 8.675133117454657e-07\n",
      "(2, 3, 1, 3): -8.675181680676495e-07\n",
      "(1, 4, 2, 4): 8.675181680676495e-07\n",
      "(1, 4, 3, 1): 8.675181680676493e-07\n",
      "(2, 3, 4, 2): -8.675181680676493e-07\n",
      "(1, 4, 1, 3): 8.675133117454658e-07\n",
      "(2, 3, 2, 4): -8.675133117454658e-07\n",
      "(3, 3, 1, 1): 0.6645840969654992\n",
      "(4, 4, 2, 2): 0.6645840969654992\n",
      "(3, 3, 3, 3): 0.6985752862567801\n",
      "(4, 4, 4, 4): 0.6985752862567801\n",
      "(3, 3, 2, 2): 0.6645840969654992\n",
      "(4, 4, 1, 1): 0.6645840969654992\n",
      "(3, 3, 4, 4): 0.6985752862567801\n",
      "(4, 4, 3, 3): 0.6985752862567801\n",
      "(1, 1, 0, 0): -1.256345100566518\n",
      "(1, 3, 0, 0): -2.688851434000484e-16\n",
      "(1, 2, 0, 0): -1.485370810900886e-22\n",
      "(1, 4, 0, 0): -3.1466890507216573e-21\n",
      "(3, 1, 0, 0): 4.86885159120002e-17\n",
      "(3, 3, 0, 0): -0.471960908250693\n",
      "(3, 2, 0, 0): 1.9591922509381627e-21\n",
      "(3, 4, 0, 0): 3.0814879110195774e-32\n",
      "(2, 1, 0, 0): 1.485370810900886e-22\n",
      "(2, 3, 0, 0): 3.1466890507216573e-21\n",
      "(2, 2, 0, 0): -1.256345100566518\n",
      "(2, 4, 0, 0): -2.688851434000484e-16\n",
      "(4, 1, 0, 0): -1.9591922509381627e-21\n",
      "(4, 3, 0, 0): -3.0814879110195774e-32\n",
      "(4, 2, 0, 0): 4.86885159120002e-17\n",
      "(4, 4, 0, 0): -0.471960908250693\n",
      "(1, 0, 0, 0): -0.5806361938942771\n",
      "(3, 0, 0, 0): 0.6762793099405826\n",
      "(2, 0, 0, 0): -0.5806361938942771\n",
      "(4, 0, 0, 0): 0.6762793099405826\n",
      "(0, 0, 0, 0): 0.7199689944258503\n"
     ]
    }
   ],
   "source": [
    "file_path = \"C:/Users/prita/Desktop/DIRAC_H2_FCI/QAE_finite_field/FCIDUMP_dossss\"\n",
    "# /content/drive/MyDrive/Colab Notebooks/QAE_finite_field/FCIDUMP_dossss\n",
    "# Read the file and store lines\n",
    "with open(file_path, \"r\") as file:\n",
    "    lines = file.readlines()\n",
    "\n",
    "# Ignore the first 6 lines\n",
    "lines = lines[6:]\n",
    "\n",
    "# Process the remaining lines\n",
    "integral_dict = {}\n",
    "for line in lines:\n",
    "    parts = line.split()\n",
    "    if len(parts) == 6:  # Ensure there are exactly 5 columns\n",
    "        integral_value = float(parts[0])\n",
    "        p, q, r, s = map(int, parts[2:])\n",
    "        key = f\"({p}, {q}, {r}, {s})\"\n",
    "        integral_dict[key] = integral_value\n",
    "\n",
    "# Print the parsed data\n",
    "for key, value in integral_dict.items():\n",
    "    print(f\"{key}: {value}\")"
   ]
  },
  {
   "cell_type": "code",
   "execution_count": 2,
   "metadata": {},
   "outputs": [],
   "source": [
    "def SC_0(ref_state, integral_dict):\n",
    "    sum_one = 0\n",
    "    for i in ref_state:\n",
    "        sum_one += integral_dict[f\"({i}, {i}, {0}, {0})\"]\n",
    "    sum_two = 0\n",
    "    for i in ref_state:\n",
    "        for j in ref_state:\n",
    "            if i != j:\n",
    "                try:\n",
    "                    sum_two += (integral_dict[f\"({i}, {i}, {j}, {j})\"])\n",
    "                    # print(f\"({i}, {i}, {j}, {j})\")\n",
    "                except KeyError:\n",
    "                    pass  # Ignore the error and continue\n",
    "                \n",
    "                try:\n",
    "                    sum_two -= (integral_dict[f\"({i}, {j}, {j}, {i})\"])\n",
    "                    # print(f\"({i}, {j}, {j}, {i})\")\n",
    "                except KeyError:\n",
    "                    pass  # Ignore the error and continue\n",
    "    # return sum_one+(0.5*sum_two)+integral_dict[\"(0, 0, 0, 0)\"]\n",
    "    return sum_one+(0.5*sum_two)"
   ]
  },
  {
   "cell_type": "code",
   "execution_count": 3,
   "metadata": {},
   "outputs": [],
   "source": [
    "def SC_1(state_bra, state_ket, integral_dict):\n",
    "    sum_one  = 0\n",
    "    sum_two = 0\n",
    "    p = list(set(state_ket) - set(state_bra))\n",
    "    m = list(set(state_bra) - set(state_ket))\n",
    "    for i in state_bra:\n",
    "        for j in state_ket:\n",
    "            if i not in state_ket and j not in state_bra:\n",
    "                sum_one += integral_dict[f\"({i}, {j}, {0}, {0})\"]\n",
    "    for i in state_bra:\n",
    "        try:\n",
    "            sum_two += integral_dict[f\"({m[0]}, {p[0]}, {i}, {i})\"]\n",
    "        except KeyError:\n",
    "            pass\n",
    "        \n",
    "        try:\n",
    "            sum_two += integral_dict[f\"({m[0]}, {i}, {i}, {p[0]})\"]\n",
    "        except KeyError:\n",
    "            pass\n",
    "    # return sum_one+sum_two+integral_dict[\"(0, 0, 0, 0)\"]\n",
    "    return sum_one+sum_two\n"
   ]
  },
  {
   "cell_type": "code",
   "execution_count": 4,
   "metadata": {},
   "outputs": [],
   "source": [
    "def SC_2(state_bra, state_ket, integral_dict):\n",
    "    p = list(set(state_ket) - set(state_bra))\n",
    "    m = list(set(state_bra) - set(state_ket))\n",
    "    sum_two = 0\n",
    "    try: \n",
    "        sum_two += integral_dict[f\"({m[0]}, {p[0]}, {m[1]}, {p[1]})\"]\n",
    "    except KeyError:\n",
    "        pass\n",
    "    try:\n",
    "        sum_two += -integral_dict[f\"({m[0]}, {p[1]}, {m[1]}, {p[0]})\"]\n",
    "    except KeyError:\n",
    "        pass\n",
    "    # return sum_two + integral_dict[\"(0, 0, 0, 0)\"]\n",
    "    return sum_two \n"
   ]
  },
  {
   "cell_type": "code",
   "execution_count": 5,
   "metadata": {},
   "outputs": [],
   "source": [
    "def Matrix_elements(state_bra, state_ket, integral_dict):\n",
    "    # Find  difference elements\n",
    "    difference = list(set(state_ket) - set(state_bra))\n",
    "    if len(difference) == 0:\n",
    "        value = SC_0(state_bra, integral_dict)# slater condon rule for 0 difference\n",
    "        return value\n",
    "    elif len(difference) == 1:\n",
    "        value = SC_1(state_bra, state_ket, integral_dict)# slater condon rule for 1 difference\n",
    "        return value\n",
    "    elif len(difference) == 2:\n",
    "        value = SC_2(state_bra, state_ket, integral_dict)# slater condon rule for 2 difference\n",
    "        return value\n",
    "    else:\n",
    "        return 0"
   ]
  },
  {
   "cell_type": "code",
   "execution_count": 6,
   "metadata": {},
   "outputs": [
    {
     "name": "stdout",
     "output_type": "stream",
     "text": [
      "[[-1.83698129e+00 -2.68885143e-16  1.80927976e-01 -2.68885143e-16]\n",
      " [ 4.86885159e-17 -1.06372191e+00 -2.68885143e-16 -1.80927976e-01]\n",
      " [ 1.80927976e-01  4.86885159e-17 -2.45346530e-01  4.86885159e-17]\n",
      " [ 4.86885159e-17 -1.80927976e-01 -2.68885143e-16 -1.06372191e+00]]\n"
     ]
    }
   ],
   "source": [
    "import numpy as np\n",
    "\n",
    "state_1 = [1, 2]\n",
    "state_2 = [2, 3]\n",
    "state_3 = [3, 4] \n",
    "state_4 = [1, 4]\n",
    "states = [state_1, state_2, state_3, state_4]\n",
    "# Create a null matrix of dimension equal to the number of states\n",
    "num_states = len(states)\n",
    "matrix_elements = np.zeros((num_states, num_states))\n",
    "\n",
    "# Calculate the matrix elements\n",
    "for i, state_bra in enumerate(states):\n",
    "    for j, state_ket in enumerate(states):\n",
    "        matrix_elements[i, j] = Matrix_elements(state_bra, state_ket, integral_dict)\n",
    "\n",
    "print(matrix_elements)\n",
    "    \n"
   ]
  },
  {
   "cell_type": "code",
   "execution_count": 7,
   "metadata": {},
   "outputs": [
    {
     "name": "stdout",
     "output_type": "stream",
     "text": [
      "Eigenvalues:\n",
      "[-1.85728905 -1.24464989 -0.88279394 -0.22503878]\n"
     ]
    }
   ],
   "source": [
    "import numpy as np\n",
    "\n",
    "#calculate the eigenvalues and eigenvectors\n",
    "eigenvalues, eigenvectors = np.linalg.eigh(matrix_elements)\n",
    "print(\"Eigenvalues:\")\n",
    "print(eigenvalues)"
   ]
  },
  {
   "cell_type": "code",
   "execution_count": 8,
   "metadata": {},
   "outputs": [
    {
     "data": {
      "text/plain": [
       "array([-1.13732005, -0.52468089, -0.16282494,  0.49493022])"
      ]
     },
     "execution_count": 8,
     "metadata": {},
     "output_type": "execute_result"
    }
   ],
   "source": [
    "eigenvalues+integral_dict[\"(0, 0, 0, 0)\"]"
   ]
  }
 ],
 "metadata": {
  "kernelspec": {
   "display_name": "Python 3",
   "language": "python",
   "name": "python3"
  },
  "language_info": {
   "codemirror_mode": {
    "name": "ipython",
    "version": 3
   },
   "file_extension": ".py",
   "mimetype": "text/x-python",
   "name": "python",
   "nbconvert_exporter": "python",
   "pygments_lexer": "ipython3",
   "version": "3.13.1"
  }
 },
 "nbformat": 4,
 "nbformat_minor": 2
}
