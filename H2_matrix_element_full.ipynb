{
 "cells": [
  {
   "cell_type": "code",
   "execution_count": 1,
   "metadata": {},
   "outputs": [
    {
     "name": "stdout",
     "output_type": "stream",
     "text": [
      "(1, 1, 1, 1): 0.6757089066706534\n",
      "(2, 2, 2, 2): 0.6757089066706534\n",
      "(1, 1, 3, 3): 0.6645840969654995\n",
      "(2, 2, 4, 4): 0.6645840969654995\n",
      "(1, 1, 2, 2): 0.6757089066706534\n",
      "(2, 2, 1, 1): 0.6757089066706534\n",
      "(1, 1, 4, 4): 0.6645840969654995\n",
      "(2, 2, 3, 3): 0.6645840969654995\n",
      "(3, 1, 3, 1): 0.1809279757028143\n",
      "(4, 2, 4, 2): 0.1809279757028143\n",
      "(3, 1, 1, 3): 0.18092797571570754\n",
      "(4, 2, 2, 4): 0.18092797571570754\n",
      "(3, 1, 4, 2): 0.18092797571570754\n",
      "(4, 2, 3, 1): 0.18092797571570754\n",
      "(3, 1, 2, 4): 0.1809279757028143\n",
      "(4, 2, 1, 3): 0.1809279757028143\n",
      "(3, 2, 3, 2): 3.24504034821634e-12\n",
      "(4, 1, 4, 1): 3.24504034821634e-12\n",
      "(3, 2, 1, 4): -3.245040348216345e-12\n",
      "(4, 1, 2, 3): -3.245040348216345e-12\n",
      "(3, 2, 4, 1): -3.157769395619269e-11\n",
      "(4, 1, 3, 2): -3.157769395619269e-11\n",
      "(3, 2, 2, 3): 3.157769395619269e-11\n",
      "(4, 1, 1, 4): 3.157769395619269e-11\n",
      "(3, 1, 4, 1): 8.675133117454657e-07\n",
      "(4, 2, 3, 2): -8.675133117454657e-07\n",
      "(3, 1, 2, 3): -8.675133117454657e-07\n",
      "(4, 2, 1, 4): 8.675133117454657e-07\n",
      "(3, 1, 3, 2): -8.675181680676493e-07\n",
      "(4, 2, 4, 1): 8.675181680676493e-07\n",
      "(3, 1, 1, 4): 8.675181680676493e-07\n",
      "(4, 2, 2, 3): -8.675181680676493e-07\n",
      "(4, 1, 3, 1): 8.675133117454659e-07\n",
      "(3, 2, 4, 2): -8.675133117454659e-07\n",
      "(4, 1, 1, 3): 8.675181680676496e-07\n",
      "(3, 2, 2, 4): -8.675181680676496e-07\n",
      "(3, 2, 3, 1): -8.675181680676496e-07\n",
      "(4, 1, 4, 2): 8.675181680676496e-07\n",
      "(3, 2, 1, 3): -8.675133117454659e-07\n",
      "(4, 1, 2, 4): 8.675133117454659e-07\n",
      "(1, 3, 3, 1): 0.18092797571570757\n",
      "(2, 4, 4, 2): 0.18092797571570757\n",
      "(1, 3, 1, 3): 0.18092797570281433\n",
      "(2, 4, 2, 4): 0.18092797570281433\n",
      "(1, 3, 4, 2): 0.18092797570281433\n",
      "(2, 4, 3, 1): 0.18092797570281433\n",
      "(1, 3, 2, 4): 0.18092797571570757\n",
      "(2, 4, 1, 3): 0.18092797571570757\n",
      "(1, 4, 3, 2): -3.24504034821634e-12\n",
      "(2, 3, 4, 1): -3.24504034821634e-12\n",
      "(1, 4, 1, 4): 3.2450403482163416e-12\n",
      "(2, 3, 2, 3): 3.2450403482163416e-12\n",
      "(1, 4, 4, 1): 3.157769395619269e-11\n",
      "(2, 3, 3, 2): 3.157769395619269e-11\n",
      "(1, 4, 2, 3): -3.1577693956192685e-11\n",
      "(2, 3, 1, 4): -3.1577693956192685e-11\n",
      "(1, 3, 4, 1): 8.675181680676496e-07\n",
      "(2, 4, 3, 2): -8.675181680676496e-07\n",
      "(1, 3, 2, 3): -8.675181680676495e-07\n",
      "(2, 4, 1, 4): 8.675181680676495e-07\n",
      "(1, 3, 3, 2): -8.675133117454659e-07\n",
      "(2, 4, 4, 1): 8.675133117454659e-07\n",
      "(1, 3, 1, 4): 8.675133117454658e-07\n",
      "(2, 4, 2, 3): -8.675133117454658e-07\n",
      "(2, 3, 3, 1): -8.675133117454657e-07\n",
      "(1, 4, 4, 2): 8.675133117454657e-07\n",
      "(2, 3, 1, 3): -8.675181680676495e-07\n",
      "(1, 4, 2, 4): 8.675181680676495e-07\n",
      "(1, 4, 3, 1): 8.675181680676493e-07\n",
      "(2, 3, 4, 2): -8.675181680676493e-07\n",
      "(1, 4, 1, 3): 8.675133117454658e-07\n",
      "(2, 3, 2, 4): -8.675133117454658e-07\n",
      "(3, 3, 1, 1): 0.6645840969654992\n",
      "(4, 4, 2, 2): 0.6645840969654992\n",
      "(3, 3, 3, 3): 0.6985752862567801\n",
      "(4, 4, 4, 4): 0.6985752862567801\n",
      "(3, 3, 2, 2): 0.6645840969654992\n",
      "(4, 4, 1, 1): 0.6645840969654992\n",
      "(3, 3, 4, 4): 0.6985752862567801\n",
      "(4, 4, 3, 3): 0.6985752862567801\n",
      "(1, 1, 0, 0): -1.256345100566518\n",
      "(1, 3, 0, 0): -2.688851434000484e-16\n",
      "(1, 2, 0, 0): -1.485370810900886e-22\n",
      "(1, 4, 0, 0): -3.1466890507216573e-21\n",
      "(3, 1, 0, 0): 4.86885159120002e-17\n",
      "(3, 3, 0, 0): -0.471960908250693\n",
      "(3, 2, 0, 0): 1.9591922509381627e-21\n",
      "(3, 4, 0, 0): 3.0814879110195774e-32\n",
      "(2, 1, 0, 0): 1.485370810900886e-22\n",
      "(2, 3, 0, 0): 3.1466890507216573e-21\n",
      "(2, 2, 0, 0): -1.256345100566518\n",
      "(2, 4, 0, 0): -2.688851434000484e-16\n",
      "(4, 1, 0, 0): -1.9591922509381627e-21\n",
      "(4, 3, 0, 0): -3.0814879110195774e-32\n",
      "(4, 2, 0, 0): 4.86885159120002e-17\n",
      "(4, 4, 0, 0): -0.471960908250693\n",
      "(1, 0, 0, 0): -0.5806361938942771\n",
      "(3, 0, 0, 0): 0.6762793099405826\n",
      "(2, 0, 0, 0): -0.5806361938942771\n",
      "(4, 0, 0, 0): 0.6762793099405826\n",
      "(0, 0, 0, 0): 0.7199689944258503\n"
     ]
    }
   ],
   "source": [
    "file_path = \"C:/Users/prita/Desktop/DIRAC_H2_FCI/QAE_finite_field/FCIDUMP_dossss\"\n",
    "# /content/drive/MyDrive/Colab Notebooks/QAE_finite_field/FCIDUMP_dossss\n",
    "# Read the file and store lines\n",
    "with open(file_path, \"r\") as file:\n",
    "    lines = file.readlines()\n",
    "\n",
    "# Ignore the first 6 lines\n",
    "lines = lines[6:]\n",
    "\n",
    "# Process the remaining lines\n",
    "integral_dict = {}\n",
    "for line in lines:\n",
    "    parts = line.split()\n",
    "    if len(parts) == 6:  # Ensure there are exactly 5 columns\n",
    "        integral_value = float(parts[0])\n",
    "        p, q, r, s = map(int, parts[2:])\n",
    "        key = f\"({p}, {q}, {r}, {s})\"\n",
    "        integral_dict[key] = integral_value\n",
    "\n",
    "# Print the parsed data\n",
    "for key, value in integral_dict.items():\n",
    "    print(f\"{key}: {value}\")\n"
   ]
  },
  {
   "cell_type": "code",
   "execution_count": 2,
   "metadata": {},
   "outputs": [
    {
     "name": "stdout",
     "output_type": "stream",
     "text": [
      "(1, 1, 0, 0)\n",
      "(2, 2, 0, 0)\n",
      "One electron contribution: -2.512690201133036 \n",
      "\n",
      "1 2\n",
      "(1, 1, 2, 2)\n",
      "2 1\n",
      "(2, 2, 1, 1)\n",
      "Two electron contribution: 0.6757089066706534 \n",
      "\n",
      "HF energy: -1.1170123000365324\n"
     ]
    }
   ],
   "source": [
    "#Calculation of HF energy\n",
    "sum_one = 0\n",
    "sum_two = 0\n",
    "ref_state = [1,2] # Meaning interchanged spin arrengment\n",
    "# And the particles\n",
    "for i in ref_state:\n",
    "    sum_one += integral_dict[f\"({i}, {i}, {0}, {0})\"]\n",
    "    print(f\"({i}, {i}, {0}, {0})\")\n",
    "\n",
    "print(\"One electron contribution:\", sum_one,\"\\n\")\n",
    "\n",
    "sum_two = 0\n",
    "for i in ref_state:\n",
    "    for j in ref_state:\n",
    "        if i != j:\n",
    "            print(i, j)\n",
    "            try:\n",
    "                sum_two += (integral_dict[f\"({i}, {i}, {j}, {j})\"])\n",
    "                print(f\"({i}, {i}, {j}, {j})\")\n",
    "            except KeyError:\n",
    "                pass  # Ignore the error and continue\n",
    "            \n",
    "            try:\n",
    "                sum_two -= (integral_dict[f\"({i}, {j}, {j}, {i})\"])\n",
    "                print(f\"({i}, {j}, {j}, {i})\")\n",
    "            except KeyError:\n",
    "                pass  # Ignore the error and continue\n",
    "\n",
    "print(\"Two electron contribution:\", 0.5*sum_two, \"\\n\")\n",
    "print(\"HF energy:\", sum_one+(0.5*sum_two)+integral_dict[\"(0, 0, 0, 0)\"])"
   ]
  },
  {
   "cell_type": "code",
   "execution_count": 3,
   "metadata": {},
   "outputs": [
    {
     "name": "stdout",
     "output_type": "stream",
     "text": [
      "Difference counts: 1\n",
      "(1, 3, 0, 0)\n",
      "-2.688851434000484e-16\n",
      "[3] [1]\n",
      "(3, 1, 1, 1)-(3, 1, 1, 1)\n",
      "(3, 1, 2, 2)-(3, 2, 2, 1)\n",
      "0\n"
     ]
    }
   ],
   "source": [
    "state_bra = [1, 2]  # state corresponding to bra\n",
    "state_ket = [2, 3]  # state corresponding to ket\n",
    "\n",
    "m = list(set(state_ket) - set(state_bra))\n",
    "p = list(set(state_bra) - set(state_ket))\n",
    "\n",
    "diff = 1\n",
    "\n",
    "print(\"Difference counts:\", diff)\n",
    "\n",
    "sum_one  = 0\n",
    "sum_two = 0\n",
    "# if diff==1:\n",
    "#     True\n",
    "for i in state_bra:\n",
    "    for j in state_ket:\n",
    "        if i not in state_ket and j not in state_bra:\n",
    "            sum_one += integral_dict[f\"({i}, {j}, {0}, {0})\"]\n",
    "            print(f\"({i}, {j}, {0}, {0})\")\n",
    "print(sum_one)\n",
    "\n",
    "\n",
    "print(m, p)\n",
    "for i in state_bra:\n",
    "    print(f\"({m[0]}, {p[0]}, {i}, {i})-({m[0]}, {i}, {i}, {p[0]})\")\n",
    "    try:\n",
    "        sum_two += integral_dict[f\"({m[0]}, {p[0]}, {i}, {i})\"]\n",
    "        print(f\"({m[0]}, {p[0]}, {i}, {i})\")\n",
    "    except KeyError:\n",
    "        pass\n",
    "    \n",
    "    try:\n",
    "        sum_two += integral_dict[f\"({m[0]}, {i}, {i}, {p[0]})\"]\n",
    "        print(f\"({m[0]}, {i}, {i}, {p[0]})\")\n",
    "    except KeyError:\n",
    "        pass\n",
    "\n",
    "print(sum_two)"
   ]
  },
  {
   "cell_type": "code",
   "execution_count": 12,
   "metadata": {},
   "outputs": [
    {
     "name": "stdout",
     "output_type": "stream",
     "text": [
      "0\n",
      "0.18092797574728522\n"
     ]
    }
   ],
   "source": [
    "state_bra = [1, 2]  # state corresponding to bra\n",
    "state_ket = [3, 4]  # state corresponding to ket\n",
    "\n",
    "# Find common and difference elements\n",
    "\n",
    "m = list(set(state_ket) - set(state_bra))\n",
    "p = list(set(state_bra) - set(state_ket))\n",
    "# print(m, p)\n",
    "\n",
    "sum_one  = 0\n",
    "sum_two = 0\n",
    "# if diff==2: False\n",
    "print(sum_one)\n",
    "\n",
    "\n",
    "sum_two += integral_dict[f\"({m[0]}, {p[0]}, {m[1]}, {p[1]})\"]-integral_dict[f\"({m[0]}, {p[1]}, {m[1]}, {p[0]})\"]\n",
    "# print(f\"({common[0]+1}, {i+1}, {difference[0]+1}, {i+1})\")\n",
    "print(sum_two)"
   ]
  },
  {
   "cell_type": "code",
   "execution_count": 5,
   "metadata": {},
   "outputs": [],
   "source": [
    "def Matrix_elements(state_bra, state_ket, integral_dict):\n",
    "    # Find common and difference elements\n",
    "    common = list(set(state_bra) & set(state_ket))\n",
    "    difference = list(set(state_ket) - set(state_bra))\n",
    "    if len(difference) == 0:\n",
    "        value = SC_0(state_bra, integral_dict)# slater condon rule for 0 difference\n",
    "        return value\n",
    "    elif len(difference) == 1:\n",
    "        value = SC_1(state_bra, state_ket, integral_dict)# slater condon rule for 1 difference\n",
    "        return value\n",
    "    elif len(difference) == 2:\n",
    "        value = SC_2(state_bra, state_ket, integral_dict)# slater condon rule for 2 difference\n",
    "        return value\n",
    "    else:\n",
    "        return 0"
   ]
  },
  {
   "cell_type": "code",
   "execution_count": 6,
   "metadata": {},
   "outputs": [],
   "source": [
    "def SC_0(ref_state, integral_dict):\n",
    "    sum_one = 0\n",
    "    for i in ref_state:\n",
    "        sum_one += integral_dict[f\"({i}, {i}, {0}, {0})\"]\n",
    "    sum_two = 0\n",
    "    for i in ref_state:\n",
    "        for j in ref_state:\n",
    "            if i != j:\n",
    "                try:\n",
    "                    sum_two += (integral_dict[f\"({i}, {i}, {j}, {j})\"])\n",
    "                    # print(f\"({i}, {i}, {j}, {j})\")\n",
    "                except KeyError:\n",
    "                    pass  # Ignore the error and continue\n",
    "                \n",
    "                try:\n",
    "                    sum_two -= (integral_dict[f\"({i}, {j}, {j}, {i})\"])\n",
    "                    # print(f\"({i}, {j}, {j}, {i})\")\n",
    "                except KeyError:\n",
    "                    pass  # Ignore the error and continue\n",
    "    return sum_one+(0.5*sum_two)+integral_dict[\"(0, 0, 0, 0)\"]\n"
   ]
  },
  {
   "cell_type": "code",
   "execution_count": 10,
   "metadata": {},
   "outputs": [],
   "source": [
    "def SC_1(state_bra, state_ket, integral_dict):\n",
    "    sum_one  = 0\n",
    "    sum_two = 0\n",
    "    m = list(set(state_ket) - set(state_bra))\n",
    "    p = list(set(state_bra) - set(state_ket))\n",
    "    for i in state_bra:\n",
    "        for j in state_ket:\n",
    "            if i not in state_ket and j not in state_bra:\n",
    "                sum_one += integral_dict[f\"({i}, {j}, {0}, {0})\"]\n",
    "    for i in state_bra:\n",
    "        try:\n",
    "            sum_two += integral_dict[f\"({m[0]}, {p[0]}, {i}, {i})\"]\n",
    "        except KeyError:\n",
    "            pass\n",
    "        \n",
    "        try:\n",
    "            sum_two += integral_dict[f\"({m[0]}, {i}, {i}, {p[0]})\"]\n",
    "        except KeyError:\n",
    "            pass\n",
    "    return sum_one+sum_two+integral_dict[\"(0, 0, 0, 0)\"]"
   ]
  },
  {
   "cell_type": "code",
   "execution_count": 16,
   "metadata": {},
   "outputs": [],
   "source": [
    "def SC_2(state_bra, state_ket, integral_dict):\n",
    "    m = list(set(state_ket) - set(state_bra))\n",
    "    p = list(set(state_bra) - set(state_ket))\n",
    "    sum_two = integral_dict[f\"({m[0]}, {p[0]}, {m[1]}, {p[1]})\"]-integral_dict[f\"({m[0]}, {p[1]}, {m[1]}, {p[0]})\"]\n",
    "    return sum_two + integral_dict[\"(0, 0, 0, 0)\"]"
   ]
  },
  {
   "cell_type": "code",
   "execution_count": 8,
   "metadata": {},
   "outputs": [
    {
     "name": "stdout",
     "output_type": "stream",
     "text": [
      "-0.3437529174574392\n"
     ]
    }
   ],
   "source": [
    "ref_state = [2,3] # Meaning interchanged spin arrengment\n",
    "print(SC_0(ref_state, integral_dict))"
   ]
  },
  {
   "cell_type": "code",
   "execution_count": 11,
   "metadata": {},
   "outputs": [
    {
     "name": "stdout",
     "output_type": "stream",
     "text": [
      "0.71996899442585\n"
     ]
    }
   ],
   "source": [
    "state_bra = [1, 2]  # state corresponding to bra\n",
    "state_ket = [2, 3]  # state corresponding to ket\n",
    "print(SC_1(state_bra, state_ket, integral_dict))"
   ]
  },
  {
   "cell_type": "code",
   "execution_count": 17,
   "metadata": {},
   "outputs": [
    {
     "name": "stdout",
     "output_type": "stream",
     "text": [
      "0.9008969701731355\n"
     ]
    }
   ],
   "source": [
    "state_bra = [1, 2]  # state corresponding to bra\n",
    "state_ket = [3, 4]  # state corresponding to ket\n",
    "print(SC_2(state_bra, state_ket, integral_dict))"
   ]
  }
 ],
 "metadata": {
  "kernelspec": {
   "display_name": "Python 3",
   "language": "python",
   "name": "python3"
  },
  "language_info": {
   "codemirror_mode": {
    "name": "ipython",
    "version": 3
   },
   "file_extension": ".py",
   "mimetype": "text/x-python",
   "name": "python",
   "nbconvert_exporter": "python",
   "pygments_lexer": "ipython3",
   "version": "3.13.1"
  }
 },
 "nbformat": 4,
 "nbformat_minor": 2
}
